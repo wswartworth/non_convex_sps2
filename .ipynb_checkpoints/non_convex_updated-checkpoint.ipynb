{
 "cells": [
  {
   "cell_type": "code",
   "execution_count": 1,
   "metadata": {
    "id": "fZD_qKbsOnlh"
   },
   "outputs": [],
   "source": [
    "import numpy as np\n",
    "import torch\n",
    "import torchvision\n",
    "import torchvision.transforms as transforms\n",
    "import torch.nn as nn\n",
    "import torch.nn.functional as F\n",
    "import numpy as np\n",
    "import matplotlib.pyplot as plt\n",
    "import matplotlib\n",
    "\n",
    "import pickle\n",
    "import os\n",
    "\n",
    "from tqdm import tqdm\n",
    "from abc import ABC, abstractmethod\n",
    "\n",
    "cuda_enabled = False\n",
    "to_gpu = lambda x: x.cuda() if cuda_enabled else x\n",
    "\n",
    "%matplotlib inline "
   ]
  },
  {
   "cell_type": "code",
   "execution_count": 2,
   "metadata": {
    "id": "HPAoQ0cXOuvX"
   },
   "outputs": [],
   "source": [
    "#methods to calculate norms and inner products for lists of tensors\n",
    "\n",
    "def norm_sq(v):\n",
    "  return torch.sum(torch.stack([torch.norm(vi)**2 for vi in v]))\n",
    "\n",
    "def inner_prod(v, w): #is there a better way to do this?\n",
    "  return torch.sum(torch.stack([ torch.dot(torch.flatten(v_i), torch.flatten(w_i)) \n",
    "              for v_i,w_i in zip(v,w)]))\n",
    "\n",
    "def classification_accuracy(data_loader, model):\n",
    "  total=0\n",
    "  correct=0\n",
    "  with torch.no_grad():\n",
    "    for images, labels in data_loader:\n",
    "      images, labels = to_gpu(images), to_gpu(labels)\n",
    "      outputs = model(images)\n",
    "      _, predicted = torch.max(outputs.data, 1)\n",
    "      total += labels.size(0)\n",
    "      correct += (predicted==labels).sum().item()\n",
    "\n",
    "  return correct/total\n",
    "\n",
    "#Assumes that all batches have same size (fix?)\n",
    "def total_loss(data_loader, model, loss_fn):\n",
    "  total = 0\n",
    "  count = 0\n",
    "  with torch.no_grad():\n",
    "    for x,y in data_loader:\n",
    "      x,y = to_gpu(x), to_gpu(y)\n",
    "      pred = model(x)\n",
    "      loss = loss_fn(pred,y)\n",
    "      total += loss #FIX THIS\n",
    "      count += 1\n",
    "  return total/count"
   ]
  },
  {
   "cell_type": "code",
   "execution_count": 3,
   "metadata": {
    "id": "XJUy7Cl2O63b"
   },
   "outputs": [],
   "source": [
    "class Trainer(ABC):\n",
    "\n",
    "  def __init__(self, model, criterion, trainloader, testloader):\n",
    "    self.model = model\n",
    "    self.criterion = criterion\n",
    "    self.trainloader = trainloader\n",
    "    self.testloader = testloader\n",
    "\n",
    "    self.batch_losses = []\n",
    "    self.test_class_accs = [] #classification accuracy on test data\n",
    "    self.train_class_accs = [] #classification accuracy on training data\n",
    "    self.total_train_losses = [] #Loss over the entire training set\n",
    "    self.total_test_losses = [] #Loss over the entire testing set\n",
    "\n",
    "    self.loss = None\n",
    "    self.suppress_data = False\n",
    "  \n",
    "  @abstractmethod\n",
    "  def do_step():\n",
    "    pass\n",
    "\n",
    "  def only_batch_data(self, flag=True):\n",
    "    self.suppress_data = flag\n",
    "\n",
    "  def update_logs(self):\n",
    "    if not self.suppress_data:\n",
    "      self.test_class_accs.append(classification_accuracy(self.testloader, self.model))\n",
    "      self.train_class_accs.append(classification_accuracy(self.trainloader, self.model))\n",
    "      self.total_train_losses.append(total_loss(self.trainloader, self.model, self.criterion))\n",
    "      self.total_test_losses.append(total_loss(self.testloader,self.model, self.criterion))\n",
    "      \n",
    "  def train(self, n_epochs):\n",
    "    for epoch in range(n_epochs):\n",
    "\n",
    "      print(\"Epoch: \", epoch)\n",
    "      self.update_logs()\n",
    "\n",
    "      for x, y in tqdm(self.trainloader):\n",
    "          x, y = to_gpu(x), to_gpu(y)\n",
    "          pred = self.model(x)\n",
    "          self.loss = self.criterion(pred,y)\n",
    "          self.batch_losses.append(self.loss.item())\n",
    "          self.do_step()\n",
    "\n",
    "    self.update_logs()\n",
    "\n",
    "class StandardTrainer(Trainer):\n",
    "  def __init__(self, model, criterion, trainloader, testloader, optimizer):\n",
    "    super().__init__(model, criterion, trainloader, testloader)\n",
    "    self.optimizer = optimizer\n",
    "\n",
    "  def do_step(self):\n",
    "    self.loss.backward()\n",
    "    self.optimizer.step()\n",
    "    self.optimizer.zero_grad()\n",
    "\n",
    "class Sps2Base(Trainer):\n",
    "\n",
    "  def __init__(self, model, criterion, trainloader, testloader, beta):\n",
    "    super().__init__(model, criterion, trainloader, testloader)\n",
    "\n",
    "    zero_fill = [torch.zeros_like(w_i) for w_i in self.model.parameters()]\n",
    "    self.last_two_steps = [zero_fill, zero_fill] #most recent step, followed by the previous step\n",
    "    self.beta = beta\n",
    "\n",
    "\n",
    "  @abstractmethod\n",
    "  def get_step(self):\n",
    "    pass\n",
    "\n",
    "  def update_momentum(self, step):\n",
    "    self.last_two_steps[0], self.last_two_steps[1] = step, self.last_two_steps[0]\n",
    "\n",
    "  def get_momentum(self):\n",
    "    return [self.beta * (a-b) for a,b in zip(self.last_two_steps[0], self.last_two_steps[1])]\n",
    "\n",
    "  \n",
    "  def do_step(self):\n",
    "    step = self.get_step()\n",
    "    with torch.no_grad():\n",
    "        for w_i, step_i in zip(self.model.parameters(), step):\n",
    "            w_i.sub_(step_i)\n",
    "\n",
    "'''\n",
    "Original trainer without momentum\n",
    "class Sps2Trainer(Sps2Base):\n",
    "\n",
    "  def get_step(self):\n",
    "      f = self.loss\n",
    "      grad_f = torch.autograd.grad(f, self.model.parameters(), create_graph=True)\n",
    "      hessian_grad = torch.autograd.grad(grad_f, self.model.parameters(), grad_outputs = grad_f) #should work, but worth checking\n",
    "\n",
    "      a = f/norm_sq(grad_f)\n",
    "      B = [grad_f_i - a * hessian_grad_i for grad_f_i,hessian_grad_i in zip(grad_f, hessian_grad)]\n",
    "      hessgrad_grad = inner_prod(hessian_grad, grad_f)\n",
    "      norm_sq_B = norm_sq(B)\n",
    "      step = [a*grad_f_i + 0.5 * (a**2) * hessgrad_grad * B_i/norm_sq_B for grad_f_i,B_i in zip(grad_f, B)] #compute step separately for each layer\n",
    "\n",
    "      return step\n",
    "'''\n",
    "\n",
    "class Sps2Trainer(Sps2Base):\n",
    "\n",
    "  def get_step(self):\n",
    "      f = self.loss\n",
    "      grad_f = torch.autograd.grad(f, self.model.parameters(), create_graph=True)\n",
    "      hessian_grad = torch.autograd.grad(grad_f, self.model.parameters(), grad_outputs = grad_f) #should work, but worth checking\n",
    "\n",
    "      with torch.no_grad():\n",
    "        a = f/norm_sq(grad_f)\n",
    "        B = [grad_f_i - a * hessian_grad_i for grad_f_i,hessian_grad_i in zip(grad_f, hessian_grad)]\n",
    "        hessgrad_grad = inner_prod(hessian_grad, grad_f)\n",
    "        norm_sq_B = norm_sq(B)\n",
    "        step = [a*grad_f_i + 0.5 * (a**2) * hessgrad_grad * B_i/norm_sq_B for grad_f_i,B_i in zip(grad_f, B)] #compute step separately for each layer\n",
    "\n",
    "        self.update_momentum(step)\n",
    "\n",
    "        inertia_term = self.get_momentum() #add on the momentum term\n",
    "        for step_i, m_i in zip(step, inertia_term):\n",
    "          step_i.add_(m_i)\n",
    "\n",
    "        return step\n",
    "\n",
    "\n",
    "plus = lambda x: x if x>0 else 0\n",
    "'''def plus(x):\n",
    "  return x if x >= 0 else 0\n",
    "'''\n",
    "\n",
    "class Sps2SlackTrainer(Sps2Base):\n",
    "\n",
    "  def __init__(self, model, criterion, trainloader, testloader, lmbda, init_s, beta):\n",
    "    super().__init__(model, criterion, trainloader, testloader, beta)\n",
    "    self.lmbda = lmbda\n",
    "    self.s = init_s\n",
    "\n",
    "  def get_step(self):\n",
    "    f = self.loss\n",
    "    lmbda = self.lmbda\n",
    "    s_t = self.s\n",
    "\n",
    "    grad_f = torch.autograd.grad(f, self.model.parameters(), create_graph=True)\n",
    "    hessian_grad = torch.autograd.grad(grad_f, self.model.parameters(), grad_outputs = grad_f) #should work, but worth checking\n",
    "\n",
    "    norm_sq_grad_f = norm_sq(grad_f)\n",
    "    Gamma_1 = plus(f - (1 - lmbda)*s_t) / (1-lmbda + norm_sq_grad_f)\n",
    "\n",
    "    Gamma_2_signed_numerator = f - Gamma_1*norm_sq_grad_f \\\n",
    "      + 0.5*(Gamma_1**2)*inner_prod(hessian_grad, grad_f) \\\n",
    "      - ((1-lmbda)**2) * (s_t + Gamma_1)\n",
    "\n",
    "    A = [grad_f_i - Gamma_1*hessian_grad_i \n",
    "        for grad_f_i, hessian_grad_i in zip(grad_f, hessian_grad)] #comes up twice, so only compute once\n",
    "\n",
    "    Gamma_2_denom =  1 - lmbda + norm_sq(A)\n",
    "    Gamma_2 = plus(Gamma_2_signed_numerator)/Gamma_2_denom\n",
    "\n",
    "    step = [Gamma_1 * grad_f_i + Gamma_2 * A_i for grad_f_i, A_i in zip(grad_f, A)]\n",
    "    new_s = (1-lmbda)*((1-lmbda)*(s_t + Gamma_1) + Gamma_2)\n",
    "\n",
    "    \n",
    "    self.update_momentum(step)\n",
    "\n",
    "    inertia_term = self.get_momentum() #add on the momentum term\n",
    "    for step_i, m_i in zip(step, inertia_term):\n",
    "        step_i.add_(m_i)\n",
    "    \n",
    "    self.s = new_s\n",
    "    return step"
   ]
  },
  {
   "cell_type": "code",
   "execution_count": 4,
   "metadata": {
    "id": "hLjtsnk4gx7A"
   },
   "outputs": [],
   "source": [
    "def load_MNIST(batch_size=50):\n",
    "  transform_train = transforms.Compose([\n",
    "    transforms.ToTensor()\n",
    "    ,transforms.Normalize((0.1307,), (0.3081,))\n",
    "  ])\n",
    "  transform_test = transforms.Compose([\n",
    "    transforms.ToTensor(),\n",
    "    transforms.Normalize((0.1307,), (0.3081,))\n",
    "  ])\n",
    "\n",
    "  train_data = torchvision.datasets.MNIST(root=\"./\", train=True,download=True, transform=transform_train)\n",
    "  test_data = torchvision.datasets.MNIST(root=\"./\", train=False,download=True, transform=transform_test)\n",
    "\n",
    "\n",
    "  trainloader = torch.utils.data.DataLoader(train_data, batch_size=batch_size, shuffle=True)\n",
    "  testloader = torch.utils.data.DataLoader(test_data, batch_size=len(test_data), shuffle=False)\n",
    "\n",
    "  return trainloader, testloader"
   ]
  },
  {
   "cell_type": "markdown",
   "metadata": {
    "id": "4FDUrkplfRcz"
   },
   "source": [
    "---"
   ]
  },
  {
   "cell_type": "markdown",
   "metadata": {
    "id": "j-8CGemzgLrm"
   },
   "source": [
    "# **Models**"
   ]
  },
  {
   "cell_type": "code",
   "execution_count": 10,
   "metadata": {
    "id": "1xT3PxomfTdP"
   },
   "outputs": [],
   "source": [
    "class Small_Model(nn.Module):\n",
    "    def __init__(self):\n",
    "        super(Small_Model, self).__init__()\n",
    "        self.conv1 = nn.Conv2d(1, 1, 5)\n",
    "        self.pool = nn.MaxPool2d(2)\n",
    "        self.relu = nn.ReLU()\n",
    "        #self.conv2 = nn.Conv2d(6, 16, 5)\n",
    "        self.fc1 = nn.Linear(144, 10)\n",
    "\n",
    "    def forward(self, x):\n",
    "        y = self.pool(self.relu(self.conv1(x)))\n",
    "        #y = self.pool(self.relu(self.conv2(y)))\n",
    "        y = y.view(y.shape[0], -1)\n",
    "        y = self.relu(self.fc1(y))\n",
    "        return y\n",
    "\n",
    "class Medium_Model(nn.Module):\n",
    "    def __init__(self):\n",
    "        super(Medium_Model, self).__init__()\n",
    "        self.conv1 = nn.Conv2d(1, 6, 5)\n",
    "        self.pool = nn.MaxPool2d(2)\n",
    "        self.relu = nn.ReLU()\n",
    "        self.conv2 = nn.Conv2d(6, 16, 5)\n",
    "        self.fc1 = nn.Linear(256, 120)\n",
    "        self.fc2 = nn.Linear(120, 84)\n",
    "        self.fc3 = nn.Linear(84, 10)\n",
    "\n",
    "    def forward(self, x):\n",
    "        y = self.pool(self.relu(self.conv1(x)))\n",
    "        y = self.pool(self.relu(self.conv2(y)))\n",
    "        y = y.view(y.shape[0], -1)\n",
    "        y = self.relu(self.fc1(y))\n",
    "        y = self.relu(self.fc2(y))\n",
    "        y = self.fc3(y)\n",
    "        return y\n",
    "\n",
    "class Large_Model(nn.Module):\n",
    "    def __init__(self):\n",
    "        super(Large_Model, self).__init__()\n",
    "        self.conv1 = nn.Conv2d(1, 32, 5)\n",
    "        self.conv2 = nn.Conv2d(32, 64, 5)\n",
    "        self.pool = nn.MaxPool2d(2)\n",
    "        self.relu = nn.ReLU()\n",
    "        self.fc1 = nn.Linear(1024, 256)\n",
    "        self.fc2 = nn.Linear(256, 64)\n",
    "        self.fc3 = nn.Linear(64, 10)\n",
    "\n",
    "    def forward(self, x):\n",
    "        y = self.pool(self.relu(self.conv1(x)))\n",
    "        y = self.pool(self.relu(self.conv2(y)))\n",
    "\n",
    "        y = y.view(y.shape[0], -1)\n",
    "        y = self.relu(self.fc1(y))\n",
    "        y = self.relu(self.fc2(y))\n",
    "        y = self.fc3(y)\n",
    "        return y"
   ]
  },
  {
   "cell_type": "code",
   "execution_count": 11,
   "metadata": {
    "id": "59h39U2bYr1Z"
   },
   "outputs": [],
   "source": [
    "def num_trainable_params(model):\n",
    "  return np.sum( [np.prod(p.size()) for p in model.parameters()])"
   ]
  },
  {
   "cell_type": "code",
   "execution_count": 12,
   "metadata": {
    "colab": {
     "base_uri": "https://localhost:8080/"
    },
    "id": "9HvG2YIKZC4n",
    "outputId": "679417ee-16c6-434a-a45b-f8369115aad1"
   },
   "outputs": [
    {
     "name": "stdout",
     "output_type": "stream",
     "text": [
      "Small params:  1476\n",
      "Medium params:  44426\n",
      "Large params:  331594\n"
     ]
    }
   ],
   "source": [
    "print(\"Small params: \", num_trainable_params(Small_Model()))\n",
    "print(\"Medium params: \", num_trainable_params(Medium_Model()))\n",
    "print(\"Large params: \", num_trainable_params(Large_Model()))"
   ]
  },
  {
   "cell_type": "markdown",
   "metadata": {
    "id": "ml_5tCjlt_QJ"
   },
   "source": [
    "<b> Experiments </b>"
   ]
  },
  {
   "cell_type": "code",
   "execution_count": 13,
   "metadata": {},
   "outputs": [],
   "source": [
    "def save_data_as(trainer, name, info):\n",
    "    \n",
    "    path = './experiments/' + name\n",
    "    try:\n",
    "        os.mkdir(path)\n",
    "    except: #folder already exists\n",
    "        pass\n",
    "    \n",
    "    items = [trainer.batch_losses, trainer.test_class_accs, trainer.train_class_accs,\n",
    "            trainer.total_train_losses, trainer.total_test_losses, trainer.model]\n",
    "    filenames = [\"batch_losses\", \"test_class_accs\", \"train_class_accs\",\n",
    "            \"total_train_losses\", \"total_test_losses\", \"model\"]\n",
    "    for item, filename in zip(items, filenames):\n",
    "        pickle.dump( item, open( path + \"/\" + filename + \".pkl\", \"wb\" ) )\n",
    "    \n",
    "    with open(path + \"/info.txt\", \"w\") as info_file:\n",
    "        info_file.write(info)\n",
    "\n",
    "        \n",
    "def load_data(name, return_model=False):\n",
    "    path = './experiments/' + name\n",
    "    filenames = [\"batch_losses\", \"test_class_accs\", \"train_class_accs\",\n",
    "                \"total_train_losses\", \"total_test_losses\"]\n",
    "    \n",
    "    data = {}\n",
    "    for filename in filenames:\n",
    "        data[filename] = pickle.load( open( path + \"/\" + filename + \".pkl\", \"rb\" ) )\n",
    "    \n",
    "    if return_model:\n",
    "        model = pickle.load( open( path + \"/\" + \"model\" + \".pkl\", \"rb\" ) )\n",
    "        return data, model\n",
    "    else:\n",
    "        return data\n",
    "\n",
    "def run_and_save_MNIST(exp_name, opt_method, model_size, n_epochs, method_kwargs, batch_size=50, rand_seed=0):\n",
    "    \n",
    "    torch.manual_seed(rand_seed)\n",
    "\n",
    "    if model_size == \"small\":\n",
    "        model = to_gpu(Small_Model())\n",
    "    elif model_size == \"medium\":\n",
    "        model = to_gpu(Medium_Model())\n",
    "    elif model_size == \"large\":\n",
    "        model = to_gpu(Large_Model())\n",
    "    else:\n",
    "        assert(False)\n",
    "        \n",
    "    trainloader, testloader = load_MNIST(batch_size=batch_size)\n",
    "    criterion = nn.CrossEntropyLoss()\n",
    "    \n",
    "    if opt_method == \"sps2\":\n",
    "        trainer = Sps2Trainer(model, criterion, trainloader, testloader, **method_kwargs)\n",
    "    elif opt_method == \"sps2slack\":\n",
    "        trainer = Sps2SlackTrainer(model, criterion, trainloader, testloader, **method_kwargs)\n",
    "    else:\n",
    "        assert(False)\n",
    "        \n",
    "    trainer.train(n_epochs)\n",
    "    \n",
    "    info = \"data: MNIST\" + \\\n",
    "        \"\\nmethod: \" + opt_method + \\\n",
    "        \"\\nmodel size: \" + model_size + \\\n",
    "        \"\\nepochs: \" + str(n_epochs) + \\\n",
    "        \"\\nbatch size: \" + str(batch_size) + \\\n",
    "        \"\\nargs: \" + str(method_kwargs) + \\\n",
    "        \"\\nseed: \" + str(rand_seed)\n",
    "    \n",
    "    save_data_as(trainer, exp_name, info)"
   ]
  },
  {
   "cell_type": "markdown",
   "metadata": {},
   "source": [
    "<b> Run Experiments </b>"
   ]
  },
  {
   "cell_type": "code",
   "execution_count": 14,
   "metadata": {},
   "outputs": [
    {
     "name": "stdout",
     "output_type": "stream",
     "text": [
      "Epoch:  0\n"
     ]
    },
    {
     "name": "stderr",
     "output_type": "stream",
     "text": [
      "100%|██████████| 1200/1200 [02:21<00:00,  8.46it/s]\n"
     ]
    },
    {
     "name": "stdout",
     "output_type": "stream",
     "text": [
      "Epoch:  1\n"
     ]
    },
    {
     "name": "stderr",
     "output_type": "stream",
     "text": [
      "100%|██████████| 1200/1200 [02:25<00:00,  8.24it/s]\n"
     ]
    }
   ],
   "source": [
    "exp_name = \"sps2test\"\n",
    "opt_method = \"sps2\"\n",
    "method_kwargs = {'beta': 0.01}\n",
    "model_size = \"large\"\n",
    "n_epochs = 2\n",
    "batch_size = 50\n",
    "rand_seed = 0\n",
    "\n",
    "run_and_save_MNIST(exp_name, opt_method, model_size, n_epochs, method_kwargs, batch_size=batch_size, rand_seed=rand_seed)"
   ]
  },
  {
   "cell_type": "code",
   "execution_count": null,
   "metadata": {},
   "outputs": [],
   "source": [
    "exp_name = \"sps2slacktest\"\n",
    "opt_method = \"sps2slack\"\n",
    "method_kwargs = {'lmbda':0.5, 'init_s':1, 'beta':0.01}\n",
    "model_size = \"medium\"\n",
    "n_epochs = 2\n",
    "batch_size = 50\n",
    "rand_seed = 0\n",
    "\n",
    "run_and_save_MNIST(exp_name, opt_method, model_size, n_epochs, method_kwargs, batch_size=batch_size, rand_seed=rand_seed)"
   ]
  },
  {
   "cell_type": "code",
   "execution_count": 118,
   "metadata": {},
   "outputs": [
    {
     "data": {
      "text/plain": [
       "[<matplotlib.lines.Line2D at 0x7ff207f765e0>]"
      ]
     },
     "execution_count": 118,
     "metadata": {},
     "output_type": "execute_result"
    },
    {
     "data": {
      "image/png": "[encoded data removed]",
      "text/plain": [
       "<Figure size 432x288 with 1 Axes>"
      ]
     },
     "metadata": {
      "needs_background": "light"
     },
     "output_type": "display_data"
    }
   ],
   "source": [
    "data = load_data(\"sps2slacktest\")\n",
    "plt.plot(data['batch_losses'][0:])"
   ]
  },
  {
   "cell_type": "code",
   "execution_count": 120,
   "metadata": {},
   "outputs": [
    {
     "data": {
      "text/plain": [
       "[<matplotlib.lines.Line2D at 0x7ff20467ab20>]"
      ]
     },
     "execution_count": 120,
     "metadata": {},
     "output_type": "execute_result"
    },
    {
     "data": {
      "image/png": "[encoded data removed]",
      "text/plain": [
       "<Figure size 432x288 with 1 Axes>"
      ]
     },
     "metadata": {
      "needs_background": "light"
     },
     "output_type": "display_data"
    }
   ],
   "source": [
    "data = load_data(\"sps2slacktest\")\n",
    "plt.plot(data['batch_losses'][0:])"
   ]
  },
  {
   "cell_type": "markdown",
   "metadata": {},
   "source": [
    "<b> Junk </b>"
   ]
  },
  {
   "cell_type": "code",
   "execution_count": null,
   "metadata": {},
   "outputs": [],
   "source": [
    "'''\n",
    "torch.manual_seed(0)\n",
    "train_model = small_model #generate the model with random weights\n",
    "\n",
    "criterion = nn.CrossEntropyLoss()\n",
    "n_epochs = 5\n",
    "\n",
    "#trainer = Sps2Trainer(train_model, criterion, trainloader, testloader)\n",
    "\n",
    "trainer = Sps2SlackTrainer(train_model, criterion, trainloader, testloader,lmbda=0.5, init_s=1, beta=0.01)\n",
    "\n",
    "#trainer = Sps2MomentumTrainer(train_model, criterion, trainloader, testloader, beta=0.01)\n",
    "\n",
    "#optimizer = torch.optim.Adam(train_model.parameters(), lr=0.001)\n",
    "#trainer = StandardTrainer(train_model, criterion, trainloader, testloader, optimizer = optimizer)\n",
    "\n",
    "trainer.only_batch_data(False) #get all the data\n",
    "trainer.train(n_epochs)\n",
    "'''"
   ]
  }
 ],
 "metadata": {
  "colab": {
   "collapsed_sections": [],
   "name": "non_convex_updated.ipynb",
   "provenance": []
  },
  "kernelspec": {
   "display_name": "Python 3",
   "language": "python",
   "name": "python3"
  },
  "language_info": {
   "codemirror_mode": {
    "name": "ipython",
    "version": 3
   },
   "file_extension": ".py",
   "mimetype": "text/x-python",
   "name": "python",
   "nbconvert_exporter": "python",
   "pygments_lexer": "ipython3",
   "version": "3.8.3"
  }
 },
 "nbformat": 4,
 "nbformat_minor": 4
}
