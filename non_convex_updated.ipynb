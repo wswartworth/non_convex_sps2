{
 "cells": [
  {
   "cell_type": "code",
   "execution_count": 2,
   "metadata": {
    "id": "fZD_qKbsOnlh"
   },
   "outputs": [
    {
     "name": "stdout",
     "output_type": "stream",
     "text": [
      "Warning: Not running with GPU\n"
     ]
    }
   ],
   "source": [
    "import numpy as np\n",
    "import torch\n",
    "import torchvision\n",
    "import torchvision.transforms as transforms\n",
    "import torch.nn as nn\n",
    "import torch.nn.functional as F\n",
    "import numpy as np\n",
    "import matplotlib.pyplot as plt\n",
    "import matplotlib\n",
    "import pickle\n",
    "import os\n",
    "\n",
    "from tqdm import tqdm\n",
    "from abc import ABC, abstractmethod\n",
    "\n",
    "cuda_enabled = False #set to True to run on GPU\n",
    "to_gpu = lambda x: x.cuda() if cuda_enabled else x\n",
    "if cuda_enabled is False: print(\"Warning: Not running with GPU\")\n",
    "\n",
    "%matplotlib inline "
   ]
  },
  {
   "cell_type": "markdown",
   "metadata": {},
   "source": [
    "<b> Functions for computing losses </b>"
   ]
  },
  {
   "cell_type": "code",
   "execution_count": 3,
   "metadata": {
    "id": "HPAoQ0cXOuvX"
   },
   "outputs": [],
   "source": [
    "def classification_accuracy(data_loader, model):\n",
    "  total=0\n",
    "  correct=0\n",
    "  with torch.no_grad():\n",
    "    for images, labels in data_loader:\n",
    "      images, labels = to_gpu(images), to_gpu(labels)\n",
    "      outputs = model(images)\n",
    "      _, predicted = torch.max(outputs.data, 1)\n",
    "      total += labels.size(0)\n",
    "      correct += (predicted==labels).sum().item()\n",
    "\n",
    "  return correct/total\n",
    "\n",
    "#Assumes that all batches have same size (fix?)\n",
    "def total_loss(data_loader, model, loss_fn):\n",
    "  total = 0\n",
    "  count = 0\n",
    "  with torch.no_grad():\n",
    "    for x,y in data_loader:\n",
    "      x,y = to_gpu(x), to_gpu(y)\n",
    "      pred = model(x)\n",
    "      loss = loss_fn(pred,y)\n",
    "      total += loss #FIX THIS\n",
    "      count += 1\n",
    "  return total/count"
   ]
  },
  {
   "cell_type": "markdown",
   "metadata": {},
   "source": [
    "<b> Training Methods </b>"
   ]
  },
  {
   "cell_type": "code",
   "execution_count": 4,
   "metadata": {},
   "outputs": [],
   "source": [
    "#methods to calculate norms and inner products for lists of tensors\n",
    "\n",
    "def norm_sq(v):\n",
    "  return torch.sum(torch.stack([torch.norm(vi)**2 for vi in v]))\n",
    "\n",
    "def inner_prod(v, w): #is there a better way to do this?\n",
    "  return torch.sum(torch.stack([ torch.dot(torch.flatten(v_i), torch.flatten(w_i)) \n",
    "              for v_i,w_i in zip(v,w)]))"
   ]
  },
  {
   "cell_type": "code",
   "execution_count": 16,
   "metadata": {
    "id": "XJUy7Cl2O63b"
   },
   "outputs": [],
   "source": [
    "class Trainer(ABC):\n",
    "\n",
    "  def __init__(self, model, criterion, trainloader, testloader):\n",
    "    self.model = model\n",
    "    self.criterion = criterion\n",
    "    self.trainloader = trainloader\n",
    "    self.testloader = testloader\n",
    "\n",
    "    self.batch_losses = []\n",
    "    self.test_class_accs = [] #classification accuracy on test data\n",
    "    self.train_class_accs = [] #classification accuracy on training data\n",
    "    self.total_train_losses = [] #Loss over the entire training set\n",
    "    self.total_test_losses = [] #Loss over the entire testing set\n",
    "\n",
    "    self.loss = None\n",
    "    self.suppress_data = False\n",
    "  \n",
    "  @abstractmethod\n",
    "  def do_step():\n",
    "    pass\n",
    "\n",
    "  def only_batch_data(self, flag=True):\n",
    "    self.suppress_data = flag\n",
    "\n",
    "  def update_logs(self):\n",
    "    if not self.suppress_data:\n",
    "      self.test_class_accs.append(classification_accuracy(self.testloader, self.model))\n",
    "      self.train_class_accs.append(classification_accuracy(self.trainloader, self.model))\n",
    "      self.total_train_losses.append(total_loss(self.trainloader, self.model, self.criterion))\n",
    "      self.total_test_losses.append(total_loss(self.testloader,self.model, self.criterion))\n",
    "      \n",
    "  def train(self, n_epochs):\n",
    "    for epoch in range(n_epochs):\n",
    "\n",
    "      print(\"Epoch: \", epoch)\n",
    "      self.update_logs()\n",
    "\n",
    "      for x, y in tqdm(self.trainloader):\n",
    "          x, y = to_gpu(x), to_gpu(y)\n",
    "          pred = self.model(x)\n",
    "          self.loss = self.criterion(pred,y)\n",
    "          self.batch_losses.append(self.loss.item())\n",
    "          self.do_step()\n",
    "\n",
    "    self.update_logs()\n",
    "\n",
    "class StandardTrainer(Trainer):\n",
    "  '''Used for training with Adam or SGD'''\n",
    "\n",
    "  def __init__(self, model, criterion, trainloader, testloader, optimizer):\n",
    "    super().__init__(model, criterion, trainloader, testloader)\n",
    "    self.optimizer = optimizer\n",
    "\n",
    "  def do_step(self):\n",
    "    self.loss.backward()\n",
    "    self.optimizer.step()\n",
    "    self.optimizer.zero_grad()\n",
    "\n",
    "class Sps2Base(Trainer):\n",
    "\n",
    "  def __init__(self, model, criterion, trainloader, testloader, beta, step_size=1):\n",
    "    super().__init__(model, criterion, trainloader, testloader)\n",
    "\n",
    "    zero_fill = [torch.zeros_like(w_i) for w_i in self.model.parameters()]\n",
    "    self.last_two_steps = [zero_fill, zero_fill] #most recent step, followed by the previous step\n",
    "    self.beta = beta\n",
    "    self.step_size = step_size\n",
    "\n",
    "  #Doesn't account for the step size\n",
    "  @abstractmethod\n",
    "  def get_step(self):\n",
    "    pass\n",
    "\n",
    "  def update_momentum(self, step):\n",
    "    self.last_two_steps[0], self.last_two_steps[1] = step, self.last_two_steps[0]\n",
    "\n",
    "  def get_momentum(self):\n",
    "    return [self.beta * (a-b) for a,b in zip(self.last_two_steps[0], self.last_two_steps[1])]\n",
    "\n",
    "  \n",
    "  def do_step(self):\n",
    "    step = self.get_step()\n",
    "    with torch.no_grad():\n",
    "        for w_i, step_i in zip(self.model.parameters(), step):\n",
    "            w_i.sub_(self.step_size * step_i) #this is where step_size is accounted for\n",
    "\n",
    "class Sps2Trainer(Sps2Base):\n",
    "\n",
    "  def get_step(self):\n",
    "      f = self.loss\n",
    "      grad_f = torch.autograd.grad(f, self.model.parameters(), create_graph=True)\n",
    "      hessian_grad = torch.autograd.grad(grad_f, self.model.parameters(), grad_outputs = grad_f) #should work, but worth checking\n",
    "\n",
    "      with torch.no_grad():\n",
    "        a = f/norm_sq(grad_f)\n",
    "        B = [grad_f_i - a * hessian_grad_i for grad_f_i,hessian_grad_i in zip(grad_f, hessian_grad)]\n",
    "        hessgrad_grad = inner_prod(hessian_grad, grad_f)\n",
    "        norm_sq_B = norm_sq(B)\n",
    "        step = [a*grad_f_i + 0.5 * (a**2) * hessgrad_grad * B_i/norm_sq_B for grad_f_i,B_i in zip(grad_f, B)] #compute step separately for each layer\n",
    "\n",
    "        self.update_momentum(step)\n",
    "\n",
    "        inertia_term = self.get_momentum() #add on the momentum term\n",
    "        for step_i, m_i in zip(step, inertia_term):\n",
    "          step_i.add_(m_i)\n",
    "\n",
    "        return step\n",
    "\n",
    "\n",
    "plus = lambda x: x if x>0 else 0\n",
    "\n",
    "class Sps2SlackTrainer(Sps2Base):\n",
    "\n",
    "  def __init__(self, model, criterion, trainloader, testloader, lmbda, init_s, beta, step_size=1):\n",
    "    super().__init__(model, criterion, trainloader, testloader, beta, step_size)\n",
    "    self.lmbda = lmbda\n",
    "    self.s = init_s\n",
    "\n",
    "  def get_step(self):\n",
    "    f = self.loss\n",
    "    lmbda = self.lmbda\n",
    "    s_t = self.s\n",
    "\n",
    "    grad_f = torch.autograd.grad(f, self.model.parameters(), create_graph=True)\n",
    "    hessian_grad = torch.autograd.grad(grad_f, self.model.parameters(), grad_outputs = grad_f) #should work, but worth checking\n",
    "\n",
    "    with torch.no_grad():\n",
    "        norm_sq_grad_f = norm_sq(grad_f)\n",
    "        Gamma_1 = plus(f - (1 - lmbda)*s_t) / (1-lmbda + norm_sq_grad_f)\n",
    "\n",
    "        Gamma_2_signed_numerator = f - Gamma_1*norm_sq_grad_f \\\n",
    "          + 0.5*(Gamma_1**2)*inner_prod(hessian_grad, grad_f) \\\n",
    "          - ((1-lmbda)**2) * (s_t + Gamma_1)\n",
    "\n",
    "        A = [grad_f_i - Gamma_1*hessian_grad_i \n",
    "            for grad_f_i, hessian_grad_i in zip(grad_f, hessian_grad)] #comes up twice, so only compute once\n",
    "\n",
    "        Gamma_2_denom =  1 - lmbda + norm_sq(A)\n",
    "        Gamma_2 = plus(Gamma_2_signed_numerator)/Gamma_2_denom\n",
    "\n",
    "        step = [Gamma_1 * grad_f_i + Gamma_2 * A_i for grad_f_i, A_i in zip(grad_f, A)]\n",
    "        new_s = (1-lmbda)*((1-lmbda)*(s_t + Gamma_1) + Gamma_2)\n",
    "\n",
    "        self.update_momentum(step)\n",
    "\n",
    "        inertia_term = self.get_momentum() #add on the momentum term\n",
    "        for step_i, m_i in zip(step, inertia_term):\n",
    "            step_i.add_(m_i)\n",
    "    \n",
    "        self.s = new_s\n",
    "        \n",
    "    return step"
   ]
  },
  {
   "cell_type": "markdown",
   "metadata": {},
   "source": [
    "<b> Load Training Data </b>"
   ]
  },
  {
   "cell_type": "code",
   "execution_count": 17,
   "metadata": {
    "id": "hLjtsnk4gx7A"
   },
   "outputs": [],
   "source": [
    "def load_MNIST(batch_size=50):\n",
    "  transform_train = transforms.Compose([\n",
    "    transforms.ToTensor()\n",
    "    ,transforms.Normalize((0.1307,), (0.3081,))\n",
    "  ])\n",
    "  transform_test = transforms.Compose([\n",
    "    transforms.ToTensor(),\n",
    "    transforms.Normalize((0.1307,), (0.3081,))\n",
    "  ])\n",
    "\n",
    "  train_data = torchvision.datasets.MNIST(root=\"./\", train=True,download=True, transform=transform_train)\n",
    "  test_data = torchvision.datasets.MNIST(root=\"./\", train=False,download=True, transform=transform_test)\n",
    "\n",
    "\n",
    "  trainloader = torch.utils.data.DataLoader(train_data, batch_size=batch_size, shuffle=True)\n",
    "  testloader = torch.utils.data.DataLoader(test_data, batch_size=len(test_data), shuffle=False)\n",
    "\n",
    "  return trainloader, testloader"
   ]
  },
  {
   "cell_type": "markdown",
   "metadata": {
    "id": "4FDUrkplfRcz"
   },
   "source": [
    "---"
   ]
  },
  {
   "cell_type": "markdown",
   "metadata": {
    "id": "j-8CGemzgLrm"
   },
   "source": [
    "# **Models**"
   ]
  },
  {
   "cell_type": "code",
   "execution_count": 18,
   "metadata": {
    "id": "1xT3PxomfTdP"
   },
   "outputs": [],
   "source": [
    "class Convex_Model(nn.Module):\n",
    "    def __init__(self):\n",
    "        super(Convex_Model, self).__init__()\n",
    "        self.fc1 = nn.Linear(28*28, 10)\n",
    "\n",
    "    def forward(self, x):\n",
    "        y = x.view(x.shape[0], -1)\n",
    "        y = self.fc1(y)\n",
    "        return y\n",
    "\n",
    "class Small_Model(nn.Module):\n",
    "    def __init__(self):\n",
    "        super(Small_Model, self).__init__()\n",
    "        self.conv1 = nn.Conv2d(1, 1, 5)\n",
    "        self.pool = nn.MaxPool2d(2)\n",
    "        self.relu = nn.ReLU()\n",
    "        self.fc1 = nn.Linear(144, 10)\n",
    "\n",
    "    def forward(self, x):\n",
    "        y = self.pool(self.relu(self.conv1(x)))\n",
    "        y = y.view(y.shape[0], -1)\n",
    "        y = self.fc1(y)\n",
    "        return y\n",
    "\n",
    "class Medium_Model(nn.Module):\n",
    "    def __init__(self):\n",
    "        super(Medium_Model, self).__init__()\n",
    "        self.conv1 = nn.Conv2d(1, 6, 5)\n",
    "        self.pool = nn.MaxPool2d(2)\n",
    "        self.relu = nn.ReLU()\n",
    "        self.conv2 = nn.Conv2d(6, 16, 5)\n",
    "        self.fc1 = nn.Linear(256, 120)\n",
    "        self.fc2 = nn.Linear(120, 84)\n",
    "        self.fc3 = nn.Linear(84, 10)\n",
    "\n",
    "    def forward(self, x):\n",
    "        y = self.pool(self.relu(self.conv1(x)))\n",
    "        y = self.pool(self.relu(self.conv2(y)))\n",
    "        y = y.view(y.shape[0], -1)\n",
    "        y = self.relu(self.fc1(y))\n",
    "        y = self.relu(self.fc2(y))\n",
    "        y = self.fc3(y)\n",
    "        return y\n",
    "\n",
    "class Large_Model(nn.Module):\n",
    "    def __init__(self):\n",
    "        super(Large_Model, self).__init__()\n",
    "        self.conv1 = nn.Conv2d(1, 32, 5)\n",
    "        self.conv2 = nn.Conv2d(32, 64, 5)\n",
    "        self.pool = nn.MaxPool2d(2)\n",
    "        self.relu = nn.ReLU()\n",
    "        self.fc1 = nn.Linear(1024, 256)\n",
    "        self.fc2 = nn.Linear(256, 64)\n",
    "        self.fc3 = nn.Linear(64, 10)\n",
    "\n",
    "    def forward(self, x):\n",
    "        y = self.pool(self.relu(self.conv1(x)))\n",
    "        y = self.pool(self.relu(self.conv2(y)))\n",
    "\n",
    "        y = y.view(y.shape[0], -1)\n",
    "        y = self.relu(self.fc1(y))\n",
    "        y = self.relu(self.fc2(y))\n",
    "        y = self.fc3(y)\n",
    "        return y"
   ]
  },
  {
   "cell_type": "code",
   "execution_count": 19,
   "metadata": {
    "id": "59h39U2bYr1Z"
   },
   "outputs": [],
   "source": [
    "def num_trainable_params(model):\n",
    "  return np.sum( [np.prod(p.size()) for p in model.parameters()])"
   ]
  },
  {
   "cell_type": "code",
   "execution_count": 20,
   "metadata": {
    "colab": {
     "base_uri": "https://localhost:8080/"
    },
    "id": "9HvG2YIKZC4n",
    "outputId": "679417ee-16c6-434a-a45b-f8369115aad1"
   },
   "outputs": [
    {
     "name": "stdout",
     "output_type": "stream",
     "text": [
      "Convex params:  7850\n",
      "Small params:  1476\n",
      "Medium params:  44426\n",
      "Large params:  331594\n"
     ]
    }
   ],
   "source": [
    "print(\"Convex params: \", num_trainable_params(Convex_Model()))\n",
    "\n",
    "print(\"Small params: \", num_trainable_params(Small_Model()))\n",
    "print(\"Medium params: \", num_trainable_params(Medium_Model()))\n",
    "print(\"Large params: \", num_trainable_params(Large_Model()))"
   ]
  },
  {
   "cell_type": "markdown",
   "metadata": {
    "id": "ml_5tCjlt_QJ"
   },
   "source": [
    "<b> Experiment Boilerplate </b>"
   ]
  },
  {
   "cell_type": "code",
   "execution_count": 21,
   "metadata": {},
   "outputs": [],
   "source": [
    "def save_data_as(trainer, name, info):\n",
    "    \n",
    "    path = './experiments/' + name\n",
    "    try:\n",
    "        os.mkdir(path)\n",
    "    except: #folder already exists\n",
    "        pass\n",
    "    \n",
    "    items = [trainer.batch_losses, trainer.test_class_accs, trainer.train_class_accs,\n",
    "            trainer.total_train_losses, trainer.total_test_losses, trainer.model]\n",
    "    filenames = [\"batch_losses\", \"test_class_accs\", \"train_class_accs\",\n",
    "            \"total_train_losses\", \"total_test_losses\", \"model\"]\n",
    "    for item, filename in zip(items, filenames):\n",
    "        pickle.dump( item, open( path + \"/\" + filename + \".pkl\", \"wb\" ) )\n",
    "    \n",
    "    with open(path + \"/info.txt\", \"w\") as info_file:\n",
    "        info_file.write(info)\n",
    "\n",
    "        \n",
    "def load_data(name, return_model=False):\n",
    "    path = './experiments/' + name\n",
    "    filenames = [\"batch_losses\", \"test_class_accs\", \"train_class_accs\",\n",
    "                \"total_train_losses\", \"total_test_losses\"]\n",
    "    \n",
    "    data = {}\n",
    "    for filename in filenames:\n",
    "        data[filename] = pickle.load( open( path + \"/\" + filename + \".pkl\", \"rb\" ) )\n",
    "    \n",
    "    if return_model:\n",
    "        model = pickle.load( open( path + \"/\" + \"model\" + \".pkl\", \"rb\" ) )\n",
    "        return data, model\n",
    "    else:\n",
    "        return data\n",
    "\n",
    "def run_and_save_MNIST(exp_name, opt_method, model_size, n_epochs, method_kwargs, batch_size=50, rand_seed=0):\n",
    "    \n",
    "    torch.manual_seed(rand_seed)\n",
    "\n",
    "    if model_size == \"small\":\n",
    "        model = to_gpu(Small_Model())\n",
    "    elif model_size == \"medium\":\n",
    "        model = to_gpu(Medium_Model())\n",
    "    elif model_size == \"large\":\n",
    "        model = to_gpu(Large_Model())\n",
    "    elif model_size == \"convex\":\n",
    "        model = to_gpu(Convex_Model())\n",
    "    else:\n",
    "        assert(False)\n",
    "        \n",
    "    trainloader, testloader = load_MNIST(batch_size=batch_size)\n",
    "    criterion = nn.CrossEntropyLoss()\n",
    "    \n",
    "    if opt_method == \"sps2\":\n",
    "        trainer = Sps2Trainer(model, criterion, trainloader, testloader, **method_kwargs)\n",
    "    elif opt_method == \"sps2slack\":\n",
    "        trainer = Sps2SlackTrainer(model, criterion, trainloader, testloader, **method_kwargs)\n",
    "    elif opt_method == \"adam\":\n",
    "        optimizer = torch.optim.Adam(model.parameters(), **method_kwargs)\n",
    "        trainer = StandardTrainer(model, criterion, trainloader, testloader, optimizer = optimizer) \n",
    "    else:\n",
    "        assert(False)\n",
    "        \n",
    "    trainer.train(n_epochs)\n",
    "    \n",
    "    info = \"data: MNIST\" + \\\n",
    "        \"\\nmethod: \" + opt_method + \\\n",
    "        \"\\nmodel size: \" + model_size + \\\n",
    "        \"\\nepochs: \" + str(n_epochs) + \\\n",
    "        \"\\nbatch size: \" + str(batch_size) + \\\n",
    "        \"\\nargs: \" + str(method_kwargs) + \\\n",
    "        \"\\nseed: \" + str(rand_seed)\n",
    "    \n",
    "    save_data_as(trainer, exp_name, info)"
   ]
  },
  {
   "cell_type": "markdown",
   "metadata": {},
   "source": [
    "# **Run Experiments**"
   ]
  },
  {
   "cell_type": "markdown",
   "metadata": {},
   "source": [
    "<b> Adam Experiments </b>"
   ]
  },
  {
   "cell_type": "code",
   "execution_count": 53,
   "metadata": {},
   "outputs": [],
   "source": [
    "adam_lr = 0.01\n",
    "adam_epochs = 10\n",
    "adam_batch_size = 50\n",
    "\n",
    "\n",
    "adam_convex = {\n",
    "    'exp_name':      \"adam_convex\",\n",
    "    'opt_method':    \"adam\",\n",
    "    'method_kwargs': {'lr': adam_lr},\n",
    "    'model_size':    \"convex\",\n",
    "    'n_epochs':      adam_epochs,\n",
    "    'batch_size':    adam_batch_size,\n",
    "    'rand_seed':     0 \n",
    "}\n",
    "\n",
    "adam_small = {\n",
    "    'exp_name':      \"adam_small\",\n",
    "    'opt_method':    \"adam\",\n",
    "    'method_kwargs': {'lr': adam_lr},\n",
    "    'model_size':    \"small\",\n",
    "    'n_epochs':      adam_epochs,\n",
    "    'batch_size':    adam_batch_size,\n",
    "    'rand_seed':     0 \n",
    "}\n",
    "\n",
    "adam_medium = {\n",
    "    'exp_name':      \"adam_medium\",\n",
    "    'opt_method':    \"adam\",\n",
    "    'method_kwargs': {'lr': adam_lr},\n",
    "    'model_size':    \"medium\",\n",
    "    'n_epochs':      adam_epochs,\n",
    "    'batch_size':    adam_batch_size,\n",
    "    'rand_seed':     0 \n",
    "}\n",
    "\n",
    "adam_large = {\n",
    "    'exp_name':      \"adam_large\",\n",
    "    'opt_method':    \"adam\",\n",
    "    'method_kwargs': {'lr': adam_lr},\n",
    "    'model_size':    \"small\",\n",
    "    'n_epochs':      adam_epochs,\n",
    "    'batch_size':    adam_batch_size,\n",
    "    'rand_seed':     0 \n",
    "}"
   ]
  },
  {
   "cell_type": "code",
   "execution_count": 54,
   "metadata": {},
   "outputs": [
    {
     "name": "stdout",
     "output_type": "stream",
     "text": [
      "Epoch:  0\n"
     ]
    },
    {
     "name": "stderr",
     "output_type": "stream",
     "text": [
      "100%|██████████| 1200/1200 [00:14<00:00, 80.18it/s]\n"
     ]
    },
    {
     "name": "stdout",
     "output_type": "stream",
     "text": [
      "Epoch:  1\n"
     ]
    },
    {
     "name": "stderr",
     "output_type": "stream",
     "text": [
      "100%|██████████| 1200/1200 [00:14<00:00, 82.02it/s]\n"
     ]
    },
    {
     "name": "stdout",
     "output_type": "stream",
     "text": [
      "Epoch:  2\n"
     ]
    },
    {
     "name": "stderr",
     "output_type": "stream",
     "text": [
      "100%|██████████| 1200/1200 [00:14<00:00, 80.06it/s]\n"
     ]
    },
    {
     "name": "stdout",
     "output_type": "stream",
     "text": [
      "Epoch:  3\n"
     ]
    },
    {
     "name": "stderr",
     "output_type": "stream",
     "text": [
      "100%|██████████| 1200/1200 [00:15<00:00, 79.88it/s]\n"
     ]
    },
    {
     "name": "stdout",
     "output_type": "stream",
     "text": [
      "Epoch:  4\n"
     ]
    },
    {
     "name": "stderr",
     "output_type": "stream",
     "text": [
      "100%|██████████| 1200/1200 [00:15<00:00, 79.57it/s]\n"
     ]
    },
    {
     "name": "stdout",
     "output_type": "stream",
     "text": [
      "Epoch:  5\n"
     ]
    },
    {
     "name": "stderr",
     "output_type": "stream",
     "text": [
      "100%|██████████| 1200/1200 [00:15<00:00, 79.67it/s]\n"
     ]
    },
    {
     "name": "stdout",
     "output_type": "stream",
     "text": [
      "Epoch:  6\n"
     ]
    },
    {
     "name": "stderr",
     "output_type": "stream",
     "text": [
      "100%|██████████| 1200/1200 [00:14<00:00, 80.47it/s]\n"
     ]
    },
    {
     "name": "stdout",
     "output_type": "stream",
     "text": [
      "Epoch:  7\n"
     ]
    },
    {
     "name": "stderr",
     "output_type": "stream",
     "text": [
      "100%|██████████| 1200/1200 [00:14<00:00, 82.63it/s]\n"
     ]
    },
    {
     "name": "stdout",
     "output_type": "stream",
     "text": [
      "Epoch:  8\n"
     ]
    },
    {
     "name": "stderr",
     "output_type": "stream",
     "text": [
      "100%|██████████| 1200/1200 [00:15<00:00, 78.65it/s]\n"
     ]
    },
    {
     "name": "stdout",
     "output_type": "stream",
     "text": [
      "Epoch:  9\n"
     ]
    },
    {
     "name": "stderr",
     "output_type": "stream",
     "text": [
      "100%|██████████| 1200/1200 [00:14<00:00, 80.64it/s]\n"
     ]
    }
   ],
   "source": [
    "run_and_save_MNIST(**adam_small)"
   ]
  },
  {
   "cell_type": "code",
   "execution_count": 59,
   "metadata": {},
   "outputs": [
    {
     "name": "stdout",
     "output_type": "stream",
     "text": [
      "Epoch:  0\n"
     ]
    },
    {
     "name": "stderr",
     "output_type": "stream",
     "text": [
      "100%|██████████| 1200/1200 [00:19<00:00, 60.12it/s]\n"
     ]
    },
    {
     "name": "stdout",
     "output_type": "stream",
     "text": [
      "Epoch:  1\n"
     ]
    },
    {
     "name": "stderr",
     "output_type": "stream",
     "text": [
      "100%|██████████| 1200/1200 [00:20<00:00, 58.85it/s]\n"
     ]
    },
    {
     "name": "stdout",
     "output_type": "stream",
     "text": [
      "Epoch:  2\n"
     ]
    },
    {
     "name": "stderr",
     "output_type": "stream",
     "text": [
      "100%|██████████| 1200/1200 [00:21<00:00, 56.30it/s]\n"
     ]
    },
    {
     "name": "stdout",
     "output_type": "stream",
     "text": [
      "Epoch:  3\n"
     ]
    },
    {
     "name": "stderr",
     "output_type": "stream",
     "text": [
      "100%|██████████| 1200/1200 [00:20<00:00, 57.82it/s]\n"
     ]
    },
    {
     "name": "stdout",
     "output_type": "stream",
     "text": [
      "Epoch:  4\n"
     ]
    },
    {
     "name": "stderr",
     "output_type": "stream",
     "text": [
      "100%|██████████| 1200/1200 [00:20<00:00, 59.24it/s]\n"
     ]
    },
    {
     "name": "stdout",
     "output_type": "stream",
     "text": [
      "Epoch:  5\n"
     ]
    },
    {
     "name": "stderr",
     "output_type": "stream",
     "text": [
      "100%|██████████| 1200/1200 [00:20<00:00, 59.44it/s]\n"
     ]
    },
    {
     "name": "stdout",
     "output_type": "stream",
     "text": [
      "Epoch:  6\n"
     ]
    },
    {
     "name": "stderr",
     "output_type": "stream",
     "text": [
      "100%|██████████| 1200/1200 [00:20<00:00, 58.91it/s]\n"
     ]
    },
    {
     "name": "stdout",
     "output_type": "stream",
     "text": [
      "Epoch:  7\n"
     ]
    },
    {
     "name": "stderr",
     "output_type": "stream",
     "text": [
      "100%|██████████| 1200/1200 [00:21<00:00, 55.19it/s]\n"
     ]
    },
    {
     "name": "stdout",
     "output_type": "stream",
     "text": [
      "Epoch:  8\n"
     ]
    },
    {
     "name": "stderr",
     "output_type": "stream",
     "text": [
      "100%|██████████| 1200/1200 [00:20<00:00, 57.34it/s]\n"
     ]
    },
    {
     "name": "stdout",
     "output_type": "stream",
     "text": [
      "Epoch:  9\n"
     ]
    },
    {
     "name": "stderr",
     "output_type": "stream",
     "text": [
      "100%|██████████| 1200/1200 [00:20<00:00, 57.31it/s]\n"
     ]
    }
   ],
   "source": [
    "run_and_save_MNIST(**adam_medium)"
   ]
  },
  {
   "cell_type": "code",
   "execution_count": null,
   "metadata": {},
   "outputs": [],
   "source": [
    "run_and_save_MNIST(**adam_large)"
   ]
  },
  {
   "cell_type": "markdown",
   "metadata": {},
   "source": [
    "<b> Sps2 </b>"
   ]
  },
  {
   "cell_type": "code",
   "execution_count": 65,
   "metadata": {},
   "outputs": [],
   "source": [
    "sps2_epochs = 10\n",
    "sps2_batch_size = 50\n",
    "\n",
    "sps2_small = {\n",
    "    'exp_name':      \"sps2_small\",\n",
    "    'opt_method':    \"sps2\",\n",
    "    'method_kwargs': {'beta': 0.01},\n",
    "    'model_size':    \"small\",\n",
    "    'n_epochs':      sps2_epochs,\n",
    "    'batch_size':    sps2_batch_size,\n",
    "    'rand_seed':     0 \n",
    "}\n",
    "\n",
    "sps2_medium = {\n",
    "    'exp_name':      \"sps2_medium\",\n",
    "    'opt_method':    \"sps2\",\n",
    "    'method_kwargs': {'beta': 0.01},\n",
    "    'model_size':    \"medium\",\n",
    "    'n_epochs':      sps2_epochs,\n",
    "    'batch_size':    sps2_batch_size,\n",
    "    'rand_seed':     0 \n",
    "}\n",
    "\n",
    "sps2_large = {\n",
    "    'exp_name':      \"sps2_large\",\n",
    "    'opt_method':    \"sps2\",\n",
    "    'method_kwargs': {'beta': 0.01},\n",
    "    'model_size':    \"large\",\n",
    "    'n_epochs':      sps2_epochs,\n",
    "    'batch_size':    sps2_batch_size,\n",
    "    'rand_seed':     0 \n",
    "}"
   ]
  },
  {
   "cell_type": "code",
   "execution_count": 11,
   "metadata": {},
   "outputs": [],
   "source": [
    "sps2_epochs = 10\n",
    "sps2_batch_size = 50\n",
    "\n",
    "sps2_small_large_mom = {\n",
    "    'exp_name':      \"sps2_small_large_mom\",\n",
    "    'opt_method':    \"sps2\",\n",
    "    'method_kwargs': {'beta': 0.1},\n",
    "    'model_size':    \"small\",\n",
    "    'n_epochs':      sps2_epochs,\n",
    "    'batch_size':    sps2_batch_size,\n",
    "    'rand_seed':     0 \n",
    "}\n",
    "\n",
    "sps2_medium_large_mom = {\n",
    "    'exp_name':      \"sps2_medium_large_mom\",\n",
    "    'opt_method':    \"sps2\",\n",
    "    'method_kwargs': {'beta': 0.1},\n",
    "    'model_size':    \"medium\",\n",
    "    'n_epochs':      sps2_epochs,\n",
    "    'batch_size':    sps2_batch_size,\n",
    "    'rand_seed':     0 \n",
    "}\n",
    "\n",
    "sps2_large_small_mom = {\n",
    "    'exp_name':      \"sps2_large\",\n",
    "    'opt_method':    \"sps2\",\n",
    "    'method_kwargs': {'beta': 0.1},\n",
    "    'model_size':    \"large\",\n",
    "    'n_epochs':      sps2_epochs,\n",
    "    'batch_size':    sps2_batch_size,\n",
    "    'rand_seed':     0 \n",
    "}"
   ]
  },
  {
   "cell_type": "code",
   "execution_count": 13,
   "metadata": {},
   "outputs": [
    {
     "name": "stderr",
     "output_type": "stream",
     "text": [
      "/Library/Frameworks/Python.framework/Versions/3.8/lib/python3.8/site-packages/torchvision/datasets/mnist.py:498: UserWarning: The given NumPy array is not writeable, and PyTorch does not support non-writeable tensors. This means you can write to the underlying (supposedly non-writeable) NumPy array using the tensor. You may want to copy the array to protect its data or make it writeable before converting it to a tensor. This type of warning will be suppressed for the rest of this program. (Triggered internally at  ../torch/csrc/utils/tensor_numpy.cpp:180.)\n",
      "  return torch.from_numpy(parsed.astype(m[2], copy=False)).view(*s)\n"
     ]
    },
    {
     "name": "stdout",
     "output_type": "stream",
     "text": [
      "Epoch:  0\n"
     ]
    },
    {
     "name": "stderr",
     "output_type": "stream",
     "text": [
      "/Library/Frameworks/Python.framework/Versions/3.8/lib/python3.8/site-packages/torch/nn/functional.py:718: UserWarning: Named tensors and all their associated APIs are an experimental feature and subject to change. Please do not use them for anything important until they are released as stable. (Triggered internally at  ../c10/core/TensorImpl.h:1156.)\n",
      "  return torch.max_pool2d(input, kernel_size, stride, padding, dilation, ceil_mode)\n",
      "100%|██████████| 1200/1200 [00:25<00:00, 47.68it/s]\n"
     ]
    },
    {
     "name": "stdout",
     "output_type": "stream",
     "text": [
      "Epoch:  1\n"
     ]
    },
    {
     "name": "stderr",
     "output_type": "stream",
     "text": [
      "100%|██████████| 1200/1200 [00:23<00:00, 50.99it/s]\n"
     ]
    },
    {
     "name": "stdout",
     "output_type": "stream",
     "text": [
      "Epoch:  2\n"
     ]
    },
    {
     "name": "stderr",
     "output_type": "stream",
     "text": [
      "100%|██████████| 1200/1200 [00:23<00:00, 50.94it/s]\n"
     ]
    },
    {
     "name": "stdout",
     "output_type": "stream",
     "text": [
      "Epoch:  3\n"
     ]
    },
    {
     "name": "stderr",
     "output_type": "stream",
     "text": [
      "100%|██████████| 1200/1200 [00:24<00:00, 49.96it/s]\n"
     ]
    },
    {
     "name": "stdout",
     "output_type": "stream",
     "text": [
      "Epoch:  4\n"
     ]
    },
    {
     "name": "stderr",
     "output_type": "stream",
     "text": [
      "100%|██████████| 1200/1200 [00:23<00:00, 51.29it/s]\n"
     ]
    },
    {
     "name": "stdout",
     "output_type": "stream",
     "text": [
      "Epoch:  5\n"
     ]
    },
    {
     "name": "stderr",
     "output_type": "stream",
     "text": [
      "100%|██████████| 1200/1200 [00:23<00:00, 50.50it/s]\n"
     ]
    },
    {
     "name": "stdout",
     "output_type": "stream",
     "text": [
      "Epoch:  6\n"
     ]
    },
    {
     "name": "stderr",
     "output_type": "stream",
     "text": [
      "100%|██████████| 1200/1200 [00:25<00:00, 46.55it/s]\n"
     ]
    },
    {
     "name": "stdout",
     "output_type": "stream",
     "text": [
      "Epoch:  7\n"
     ]
    },
    {
     "name": "stderr",
     "output_type": "stream",
     "text": [
      "100%|██████████| 1200/1200 [00:26<00:00, 45.12it/s]\n"
     ]
    },
    {
     "name": "stdout",
     "output_type": "stream",
     "text": [
      "Epoch:  8\n"
     ]
    },
    {
     "name": "stderr",
     "output_type": "stream",
     "text": [
      "100%|██████████| 1200/1200 [00:24<00:00, 49.22it/s]\n"
     ]
    },
    {
     "name": "stdout",
     "output_type": "stream",
     "text": [
      "Epoch:  9\n"
     ]
    },
    {
     "name": "stderr",
     "output_type": "stream",
     "text": [
      "100%|██████████| 1200/1200 [00:27<00:00, 43.15it/s]\n"
     ]
    }
   ],
   "source": [
    "run_and_save_MNIST(**sps2_small_large_mom)"
   ]
  },
  {
   "cell_type": "code",
   "execution_count": 14,
   "metadata": {},
   "outputs": [
    {
     "name": "stdout",
     "output_type": "stream",
     "text": [
      "Epoch:  0\n"
     ]
    },
    {
     "name": "stderr",
     "output_type": "stream",
     "text": [
      "100%|██████████| 1200/1200 [00:42<00:00, 28.47it/s]\n"
     ]
    },
    {
     "name": "stdout",
     "output_type": "stream",
     "text": [
      "Epoch:  1\n"
     ]
    },
    {
     "name": "stderr",
     "output_type": "stream",
     "text": [
      "100%|██████████| 1200/1200 [00:42<00:00, 28.27it/s]\n"
     ]
    },
    {
     "name": "stdout",
     "output_type": "stream",
     "text": [
      "Epoch:  2\n"
     ]
    },
    {
     "name": "stderr",
     "output_type": "stream",
     "text": [
      "100%|██████████| 1200/1200 [00:43<00:00, 27.67it/s]\n"
     ]
    },
    {
     "name": "stdout",
     "output_type": "stream",
     "text": [
      "Epoch:  3\n"
     ]
    },
    {
     "name": "stderr",
     "output_type": "stream",
     "text": [
      "100%|██████████| 1200/1200 [00:43<00:00, 27.77it/s]\n"
     ]
    },
    {
     "name": "stdout",
     "output_type": "stream",
     "text": [
      "Epoch:  4\n"
     ]
    },
    {
     "name": "stderr",
     "output_type": "stream",
     "text": [
      "100%|██████████| 1200/1200 [00:44<00:00, 27.10it/s]\n"
     ]
    },
    {
     "name": "stdout",
     "output_type": "stream",
     "text": [
      "Epoch:  5\n"
     ]
    },
    {
     "name": "stderr",
     "output_type": "stream",
     "text": [
      "100%|██████████| 1200/1200 [00:44<00:00, 27.20it/s]\n"
     ]
    },
    {
     "name": "stdout",
     "output_type": "stream",
     "text": [
      "Epoch:  6\n"
     ]
    },
    {
     "name": "stderr",
     "output_type": "stream",
     "text": [
      "100%|██████████| 1200/1200 [00:42<00:00, 28.18it/s]\n"
     ]
    },
    {
     "name": "stdout",
     "output_type": "stream",
     "text": [
      "Epoch:  7\n"
     ]
    },
    {
     "name": "stderr",
     "output_type": "stream",
     "text": [
      "100%|██████████| 1200/1200 [00:43<00:00, 27.48it/s]\n"
     ]
    },
    {
     "name": "stdout",
     "output_type": "stream",
     "text": [
      "Epoch:  8\n"
     ]
    },
    {
     "name": "stderr",
     "output_type": "stream",
     "text": [
      "100%|██████████| 1200/1200 [00:44<00:00, 27.07it/s]\n"
     ]
    },
    {
     "name": "stdout",
     "output_type": "stream",
     "text": [
      "Epoch:  9\n"
     ]
    },
    {
     "name": "stderr",
     "output_type": "stream",
     "text": [
      "100%|██████████| 1200/1200 [00:42<00:00, 28.37it/s]\n"
     ]
    }
   ],
   "source": [
    "run_and_save_MNIST(**sps2_medium_large_mom)"
   ]
  },
  {
   "cell_type": "code",
   "execution_count": null,
   "metadata": {},
   "outputs": [],
   "source": [
    "run_and_save_MNIST(**sps2_large)"
   ]
  },
  {
   "cell_type": "markdown",
   "metadata": {},
   "source": [
    "<b> Sps2 Slack </b>"
   ]
  },
  {
   "cell_type": "code",
   "execution_count": 69,
   "metadata": {},
   "outputs": [],
   "source": [
    "sps2slack_epochs = 10\n",
    "sps2slack_batch_size = 50\n",
    "\n",
    "sps2slack_small = {\n",
    "    'exp_name':      \"sps2slack_small\",\n",
    "    'opt_method':    \"sps2slack\",\n",
    "    'method_kwargs': {'lmbda':0.5, 'init_s':1, 'beta':0.01}, #beta might be too small\n",
    "    'model_size':    \"small\",\n",
    "    'n_epochs':      sps2slack_epochs,\n",
    "    'batch_size':    sps2slack_batch_size,\n",
    "    'rand_seed':     0 \n",
    "}\n",
    "\n",
    "sps2slack_medium = {\n",
    "    'exp_name':      \"sps2slack_medium\",\n",
    "    'opt_method':    \"sps2slack\",\n",
    "    'method_kwargs': {'lmbda':0.5, 'init_s':1, 'beta':0.01},\n",
    "    'model_size':    \"medium\",\n",
    "    'n_epochs':      sps2slack_epochs,\n",
    "    'batch_size':    sps2slack_batch_size,\n",
    "    'rand_seed':     0 \n",
    "}\n",
    "\n",
    "sps2slack_large = {\n",
    "    'exp_name':      \"sps2slack_large\",\n",
    "    'opt_method':    \"sps2slack\",\n",
    "    'method_kwargs': {'lmbda':0.5, 'init_s':1, 'beta':0.01},\n",
    "    'model_size':    \"large\",\n",
    "    'n_epochs':      sps2slack_epochs,\n",
    "    'batch_size':    sps2slack_batch_size,\n",
    "    'rand_seed':     0 \n",
    "}"
   ]
  },
  {
   "cell_type": "code",
   "execution_count": null,
   "metadata": {},
   "outputs": [],
   "source": [
    "run_and_save_MNIST(**sps2slack_small)"
   ]
  },
  {
   "cell_type": "code",
   "execution_count": 70,
   "metadata": {},
   "outputs": [
    {
     "name": "stdout",
     "output_type": "stream",
     "text": [
      "Epoch:  0\n"
     ]
    },
    {
     "name": "stderr",
     "output_type": "stream",
     "text": [
      "100%|██████████| 1200/1200 [00:40<00:00, 29.62it/s]\n"
     ]
    },
    {
     "name": "stdout",
     "output_type": "stream",
     "text": [
      "Epoch:  1\n"
     ]
    },
    {
     "name": "stderr",
     "output_type": "stream",
     "text": [
      "100%|██████████| 1200/1200 [00:40<00:00, 29.69it/s]\n"
     ]
    },
    {
     "name": "stdout",
     "output_type": "stream",
     "text": [
      "Epoch:  2\n"
     ]
    },
    {
     "name": "stderr",
     "output_type": "stream",
     "text": [
      "100%|██████████| 1200/1200 [00:40<00:00, 29.87it/s]\n"
     ]
    },
    {
     "name": "stdout",
     "output_type": "stream",
     "text": [
      "Epoch:  3\n"
     ]
    },
    {
     "name": "stderr",
     "output_type": "stream",
     "text": [
      "100%|██████████| 1200/1200 [00:40<00:00, 29.82it/s]\n"
     ]
    },
    {
     "name": "stdout",
     "output_type": "stream",
     "text": [
      "Epoch:  4\n"
     ]
    },
    {
     "name": "stderr",
     "output_type": "stream",
     "text": [
      "100%|██████████| 1200/1200 [00:39<00:00, 30.01it/s]\n"
     ]
    },
    {
     "name": "stdout",
     "output_type": "stream",
     "text": [
      "Epoch:  5\n"
     ]
    },
    {
     "name": "stderr",
     "output_type": "stream",
     "text": [
      "100%|██████████| 1200/1200 [00:40<00:00, 29.45it/s]\n"
     ]
    },
    {
     "name": "stdout",
     "output_type": "stream",
     "text": [
      "Epoch:  6\n"
     ]
    },
    {
     "name": "stderr",
     "output_type": "stream",
     "text": [
      "100%|██████████| 1200/1200 [00:40<00:00, 29.67it/s]\n"
     ]
    },
    {
     "name": "stdout",
     "output_type": "stream",
     "text": [
      "Epoch:  7\n"
     ]
    },
    {
     "name": "stderr",
     "output_type": "stream",
     "text": [
      "100%|██████████| 1200/1200 [00:40<00:00, 29.58it/s]\n"
     ]
    },
    {
     "name": "stdout",
     "output_type": "stream",
     "text": [
      "Epoch:  8\n"
     ]
    },
    {
     "name": "stderr",
     "output_type": "stream",
     "text": [
      "100%|██████████| 1200/1200 [00:39<00:00, 30.48it/s]\n"
     ]
    },
    {
     "name": "stdout",
     "output_type": "stream",
     "text": [
      "Epoch:  9\n"
     ]
    },
    {
     "name": "stderr",
     "output_type": "stream",
     "text": [
      "100%|██████████| 1200/1200 [00:39<00:00, 30.09it/s]\n"
     ]
    }
   ],
   "source": [
    "run_and_save_MNIST(**sps2slack_medium)"
   ]
  },
  {
   "cell_type": "code",
   "execution_count": null,
   "metadata": {},
   "outputs": [],
   "source": [
    "run_and_save_MNIST(**sps2slack_large)"
   ]
  },
  {
   "cell_type": "markdown",
   "metadata": {},
   "source": [
    "<b> Varying step sizes </b>"
   ]
  },
  {
   "cell_type": "code",
   "execution_count": 22,
   "metadata": {},
   "outputs": [],
   "source": [
    "epochs = 5\n",
    "batch_size = 50\n",
    "sps2_small_small_stepsize = {\n",
    "    'exp_name':      \"small_stepsize_0.1\",\n",
    "    'opt_method':    \"sps2\",\n",
    "    'method_kwargs': {'beta': 0.5, 'step_size':0.1},\n",
    "    'model_size':    \"small\",\n",
    "    'n_epochs':      epochs,\n",
    "    'batch_size':    batch_size,\n",
    "    'rand_seed':     0 \n",
    "}"
   ]
  },
  {
   "cell_type": "code",
   "execution_count": 23,
   "metadata": {},
   "outputs": [
    {
     "name": "stdout",
     "output_type": "stream",
     "text": [
      "Epoch:  0\n"
     ]
    },
    {
     "name": "stderr",
     "output_type": "stream",
     "text": [
      "100%|██████████| 1200/1200 [00:21<00:00, 56.09it/s]\n"
     ]
    },
    {
     "name": "stdout",
     "output_type": "stream",
     "text": [
      "Epoch:  1\n"
     ]
    },
    {
     "name": "stderr",
     "output_type": "stream",
     "text": [
      "100%|██████████| 1200/1200 [00:21<00:00, 55.62it/s]\n"
     ]
    },
    {
     "name": "stdout",
     "output_type": "stream",
     "text": [
      "Epoch:  2\n"
     ]
    },
    {
     "name": "stderr",
     "output_type": "stream",
     "text": [
      "100%|██████████| 1200/1200 [00:21<00:00, 56.32it/s]\n"
     ]
    },
    {
     "name": "stdout",
     "output_type": "stream",
     "text": [
      "Epoch:  3\n"
     ]
    },
    {
     "name": "stderr",
     "output_type": "stream",
     "text": [
      "100%|██████████| 1200/1200 [00:22<00:00, 53.46it/s]\n"
     ]
    },
    {
     "name": "stdout",
     "output_type": "stream",
     "text": [
      "Epoch:  4\n"
     ]
    },
    {
     "name": "stderr",
     "output_type": "stream",
     "text": [
      "100%|██████████| 1200/1200 [00:21<00:00, 56.09it/s]\n"
     ]
    }
   ],
   "source": [
    "run_and_save_MNIST(**sps2_small_small_stepsize)"
   ]
  },
  {
   "cell_type": "code",
   "execution_count": null,
   "metadata": {},
   "outputs": [],
   "source": []
  },
  {
   "cell_type": "markdown",
   "metadata": {},
   "source": [
    "# **Figures**"
   ]
  },
  {
   "cell_type": "markdown",
   "metadata": {},
   "source": [
    "<b> Adam </b>"
   ]
  },
  {
   "cell_type": "code",
   "execution_count": 60,
   "metadata": {},
   "outputs": [
    {
     "data": {
      "image/png": "[encoded data removed]",
      "text/plain": [
       "<Figure size 432x288 with 1 Axes>"
      ]
     },
     "metadata": {
      "needs_background": "light"
     },
     "output_type": "display_data"
    }
   ],
   "source": [
    "adam_data = load_data(\"adam_medium\")\n",
    "plt.plot(adam_data['batch_losses'])\n",
    "plt.show()"
   ]
  },
  {
   "cell_type": "code",
   "execution_count": 61,
   "metadata": {},
   "outputs": [
    {
     "data": {
      "image/png": "[encoded data removed]",
      "text/plain": [
       "<Figure size 432x288 with 1 Axes>"
      ]
     },
     "metadata": {
      "needs_background": "light"
     },
     "output_type": "display_data"
    }
   ],
   "source": [
    "plt.xlabel('Epoch')\n",
    "plt.ylabel('Classification Accuracy')\n",
    "plt.plot(adam_data['test_class_accs'])\n",
    "plt.plot(adam_data['train_class_accs'])\n",
    "plt.show()"
   ]
  },
  {
   "cell_type": "code",
   "execution_count": 64,
   "metadata": {},
   "outputs": [
    {
     "data": {
      "image/png": "[encoded data removed]",
      "text/plain": [
       "<Figure size 432x288 with 1 Axes>"
      ]
     },
     "metadata": {
      "needs_background": "light"
     },
     "output_type": "display_data"
    }
   ],
   "source": [
    "plt.xlabel('Epoch')\n",
    "plt.ylabel('Loss')\n",
    "plt.plot(adam_data['total_test_losses'])\n",
    "plt.plot(adam_data['total_train_losses'])\n",
    "plt.show()"
   ]
  },
  {
   "cell_type": "markdown",
   "metadata": {},
   "source": [
    "<b> SPS-2 </b>"
   ]
  },
  {
   "cell_type": "code",
   "execution_count": 77,
   "metadata": {},
   "outputs": [
    {
     "data": {
      "image/png": "[encoded data removed]",
      "text/plain": [
       "<Figure size 432x288 with 1 Axes>"
      ]
     },
     "metadata": {
      "needs_background": "light"
     },
     "output_type": "display_data"
    }
   ],
   "source": [
    "sps2_data = load_data(\"sps2_medium\")\n",
    "plt.plot(sps2_data['batch_losses'][5:])\n",
    "plt.show()"
   ]
  },
  {
   "cell_type": "code",
   "execution_count": 78,
   "metadata": {},
   "outputs": [
    {
     "data": {
      "image/png": "[encoded data removed]",
      "text/plain": [
       "<Figure size 432x288 with 1 Axes>"
      ]
     },
     "metadata": {
      "needs_background": "light"
     },
     "output_type": "display_data"
    }
   ],
   "source": [
    "plt.xlabel('Epoch')\n",
    "plt.ylabel('Classification Accuracy')\n",
    "plt.plot(sps2_data['test_class_accs'])\n",
    "plt.plot(sps2_data['train_class_accs'])\n",
    "plt.show()"
   ]
  },
  {
   "cell_type": "code",
   "execution_count": 80,
   "metadata": {},
   "outputs": [
    {
     "data": {
      "image/png": "[encoded data removed]",
      "text/plain": [
       "<Figure size 432x288 with 1 Axes>"
      ]
     },
     "metadata": {
      "needs_background": "light"
     },
     "output_type": "display_data"
    }
   ],
   "source": [
    "plt.xlabel('Epoch')\n",
    "plt.ylabel('Loss')\n",
    "plt.plot(sps2_data['total_test_losses'])\n",
    "plt.plot(sps2_data['total_train_losses'])\n",
    "plt.show()"
   ]
  },
  {
   "cell_type": "markdown",
   "metadata": {},
   "source": [
    "<b> SPS-2 Slack </b>"
   ]
  },
  {
   "cell_type": "code",
   "execution_count": 83,
   "metadata": {},
   "outputs": [
    {
     "data": {
      "image/png": "[encoded data removed]",
      "text/plain": [
       "<Figure size 432x288 with 1 Axes>"
      ]
     },
     "metadata": {
      "needs_background": "light"
     },
     "output_type": "display_data"
    }
   ],
   "source": [
    "sps2slack_data = load_data(\"sps2slack_medium\")\n",
    "plt.plot(adam_data['batch_losses'][5:])\n",
    "plt.show()"
   ]
  },
  {
   "cell_type": "code",
   "execution_count": 84,
   "metadata": {},
   "outputs": [
    {
     "data": {
      "image/png": "[encoded data removed]",
      "text/plain": [
       "<Figure size 432x288 with 1 Axes>"
      ]
     },
     "metadata": {
      "needs_background": "light"
     },
     "output_type": "display_data"
    }
   ],
   "source": [
    "plt.xlabel('Epoch')\n",
    "plt.ylabel('Classification Accuracy')\n",
    "plt.plot(sps2slack_data['test_class_accs'])\n",
    "plt.plot(sps2slack_data['train_class_accs'])\n",
    "plt.show()"
   ]
  },
  {
   "cell_type": "code",
   "execution_count": 85,
   "metadata": {},
   "outputs": [
    {
     "data": {
      "image/png": "[encoded data removed]",
      "text/plain": [
       "<Figure size 432x288 with 1 Axes>"
      ]
     },
     "metadata": {
      "needs_background": "light"
     },
     "output_type": "display_data"
    }
   ],
   "source": [
    "plt.xlabel('Epoch')\n",
    "plt.ylabel('Loss')\n",
    "plt.plot(sps2slack_data['total_test_losses'])\n",
    "plt.plot(sps2slack_data['total_train_losses'])\n",
    "plt.show()"
   ]
  },
  {
   "cell_type": "code",
   "execution_count": null,
   "metadata": {},
   "outputs": [],
   "source": [
    "sps_large_mom = load_data(\"sps2slack_medium_large_mom\")\n",
    "plt.plot(sps_large_mom['batch_losses'][5:])\n",
    "plt.show()"
   ]
  }
 ],
 "metadata": {
  "colab": {
   "collapsed_sections": [],
   "name": "non_convex_updated.ipynb",
   "provenance": []
  },
  "kernelspec": {
   "display_name": "Python 3",
   "language": "python",
   "name": "python3"
  },
  "language_info": {
   "codemirror_mode": {
    "name": "ipython",
    "version": 3
   },
   "file_extension": ".py",
   "mimetype": "text/x-python",
   "name": "python",
   "nbconvert_exporter": "python",
   "pygments_lexer": "ipython3",
   "version": "3.8.3"
  }
 },
 "nbformat": 4,
 "nbformat_minor": 4
}
